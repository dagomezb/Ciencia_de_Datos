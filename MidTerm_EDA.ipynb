{
  "cells": [
    {
      "cell_type": "markdown",
      "metadata": {
        "id": "view-in-github",
        "colab_type": "text"
      },
      "source": [
        "<a href=\"https://colab.research.google.com/github/dagomezb/Ciencia_de_Datos/blob/main/MidTerm_EDA.ipynb\" target=\"_parent\"><img src=\"https://colab.research.google.com/assets/colab-badge.svg\" alt=\"Open In Colab\"/></a>"
      ]
    },
    {
      "cell_type": "markdown",
      "metadata": {
        "id": "v07_Ih6ky857"
      },
      "source": [
        "# ¿Cómo se debe fijar el precio del seguro de automóvil en Estados Unidos?"
      ]
    },
    {
      "cell_type": "markdown",
      "metadata": {
        "id": "a1ZqRhrRy85-"
      },
      "source": [
        "**Necesidad del Negocio** La capacidad de fijar el precio de una cotización de seguro correctamente tiene un impacto significativo en las decisiones de gestión y los estados financieros de las aseguradoras. Se le ha encomendado la tarea de evaluar el estado actual de las compañías de seguros para ver los factores por los que los grandes proveedores de seguros cobran las primas. Afortunadamente para usted, su empresa ha recopilado un conjunto de datos mediante una encuesta sobre lo que la gente paga actualmente por los seguros de las grandes compañías. Sus hallazgos se utilizarán como base para desarrollar la oferta de seguros de coche para millenials de su empresa.\n",
        "\n",
        "**Problema.** Su tarea es realizar el análisis exploratorio del conjunto de datos para después diseñar y construir un modelo para predecir el coste del seguro a partir del conjunto de datos utilizando varias características de un asegurado.\n",
        "\n",
        "Los datos se encuentran en un archivo CSV que ha sido pre-limpiado para usted y puede ser leído directamente."
      ]
    },
    {
      "cell_type": "markdown",
      "metadata": {
        "id": "Zy7d7xesy86A"
      },
      "source": [
        "## Entrando en los datos"
      ]
    },
    {
      "cell_type": "code",
      "execution_count": null,
      "metadata": {
        "id": "EG0jjy6Hy86B"
      },
      "outputs": [],
      "source": [
        "df = pd.read_csv('Allstate-cost-cleaned.csv',\n",
        "    dtype = { # indicate categorical variables\n",
        "        'A': 'category',\n",
        "        'B': 'category',\n",
        "        'C': 'category',\n",
        "        'D': 'category',\n",
        "        'E': 'category',\n",
        "        'F': 'category',\n",
        "        'G': 'category',\n",
        "        'car_value': 'category',\n",
        "        'state': 'category'\n",
        "    }\n",
        ")"
      ]
    },
    {
      "cell_type": "markdown",
      "metadata": {
        "id": "LUZYLki6y86B"
      },
      "source": [
        "Las siguientes son las columnas del conjunto de datos:\n",
        "\n",
        "1. **state**: State where shopping point occurred\n",
        "2. **group_size**: How many people will be covered under the policy (1, 2, 3 or 4) \n",
        "3. **homeowner**: Whether the customer owns a home (0=no, 1=yes)\n",
        "4. **car_age**: Age of the customer's car (How old the car is)\n",
        "5. **car_value**: Value of the car when it was new\n",
        "6. **risk_factor**: An ordinal assessment of how risky the customer is (0,1, 2, 3, 4) \n",
        "7. **age_oldest**: Age of the oldest person in customer's group\n",
        "8. **age_youngest**: Age of the youngest person in customer's group\n",
        "9. **married_couple**: Does the customer group contain a married couple (0=no, 1=yes) \n",
        "10. **C_previous**: What the customer formerly had or currently has for product option C (0=nothing, 1, 2, 3,4)\n",
        "11. **duration_previous**: How long (in years) the customer was covered by their previous issuer\n",
        "12. **A,B,C,D,E,F,G**: The coverage options:\n",
        "13. **A**: Collision (levels: 0, 1, 2);\n",
        "14. **B**: Towing (levels: 0, 1);\n",
        "15. **C**: Bodily Injury (BI, levels: 1, 2, 3, 4);\n",
        "16. **D**: Property Damage (PD, levels 1, 2, 3);\n",
        "17. **E**: Rental Reimbursement (RR, levels: 0, 1);\n",
        "18. **F**: Comprehensive (Comp, levels: 0, 1, 2, 3);\n",
        "19. **G**: Medical/Personal Injury Protection (Med/PIP, levels: 1, 2, 3, 4)\n",
        "20. **cost**: cost of the quoted coverage options "
      ]
    }
  ],
  "metadata": {
    "c1_recart": "6.10.0-57c20131aabc1dc2a8c675852d80a7da",
    "kernelspec": {
      "display_name": "Python 3 (ipykernel)",
      "language": "python",
      "name": "python3"
    },
    "language_info": {
      "codemirror_mode": {
        "name": "ipython",
        "version": 3
      },
      "file_extension": ".py",
      "mimetype": "text/x-python",
      "name": "python",
      "nbconvert_exporter": "python",
      "pygments_lexer": "ipython3",
      "version": "3.9.7"
    },
    "colab": {
      "provenance": [],
      "include_colab_link": true
    }
  },
  "nbformat": 4,
  "nbformat_minor": 0
}